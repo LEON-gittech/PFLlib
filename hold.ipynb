{
 "cells": [
  {
   "cell_type": "code",
   "execution_count": 4,
   "metadata": {},
   "outputs": [
    {
     "name": "stdout",
     "output_type": "stream",
     "text": [
      "['3361 MiB, 32510 MiB', '3361 MiB, 32510 MiB', '3361 MiB, 32510 MiB', '3361 MiB, 32510 MiB', '3361 MiB, 32510 MiB', '3361 MiB, 32510 MiB', '3361 MiB, 32510 MiB', '3361 MiB, 32510 MiB', '']\n",
      "[0.10338357428483544, 0.10338357428483544, 0.10338357428483544, 0.10338357428483544, 0.10338357428483544, 0.10338357428483544, 0.10338357428483544, 0.10338357428483544]\n"
     ]
    }
   ],
   "source": [
    "import subprocess\n",
    "import torch\n",
    "torch.cuda.empty_cache()\n",
    "datas = [torch.randint(0,100,(100,3000,2000)) for i in range(8)]\n",
    "for i in range(8):\n",
    "    datas[i].to(f\"cuda:{i}\")\n",
    "\n",
    "def get_gpu_memory_usage():\n",
    "    output = subprocess.check_output([\"nvidia-smi\", \"--query-gpu=memory.used,memory.total\", \"--format=csv,noheader\"]).decode()\n",
    "    outputs =  output.split(\"\\n\")\n",
    "    print(outputs)\n",
    "    used = []\n",
    "    for i in range(8):\n",
    "        used_memory = float(output.strip().split(', ')[0].strip().split(\"MiB\")[0])\n",
    "        total_memory = float(output.strip().split(', ')[1].strip().split(\"MiB\")[0])\n",
    "        used.append(used_memory/total_memory)\n",
    "    return used\n",
    "\n",
    "print(get_gpu_memory_usage())"
   ]
  },
  {
   "cell_type": "code",
   "execution_count": null,
   "metadata": {},
   "outputs": [],
   "source": []
  },
  {
   "cell_type": "code",
   "execution_count": null,
   "metadata": {},
   "outputs": [],
   "source": []
  }
 ],
 "metadata": {
  "kernelspec": {
   "display_name": "Python 3.9.2 64-bit",
   "language": "python",
   "name": "python3"
  },
  "language_info": {
   "codemirror_mode": {
    "name": "ipython",
    "version": 3
   },
   "file_extension": ".py",
   "mimetype": "text/x-python",
   "name": "python",
   "nbconvert_exporter": "python",
   "pygments_lexer": "ipython3",
   "version": "3.9.2"
  },
  "orig_nbformat": 4,
  "vscode": {
   "interpreter": {
    "hash": "31f2aee4e71d21fbe5cf8b01ff0e069b9275f58929596ceb00d14d90e3e16cd6"
   }
  }
 },
 "nbformat": 4,
 "nbformat_minor": 2
}
